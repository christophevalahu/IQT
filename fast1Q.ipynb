{
 "cells": [
  {
   "cell_type": "markdown",
   "metadata": {},
   "source": [
    "# Fast 1 qubit gates\n",
    "\n",
    "In the dressed state basis, single qubit gate speeds are limited by off resonant coupling to spectator states, such as $\\rvert u \\rangle$ and $\\rvert d \\rangle$, which are seperated in energy by $\\frac{\\Omega}{\\sqrt{2}}$. Furthermore, for fast transitions such that $\\Omega_0 >> \\frac{\\Omega}{\\sqrt{2}}$, the dressing fields don't have time to balance out the populations, and the dressed state approximation breaks down. We thereform aim to perform fast gates in the bare states, by simultaneously addressing $\\rvert 0' \\rangle \\rightarrow \\rvert -1 \\rangle $ and $\\rvert 0' \\rangle \\rightarrow \\rvert +1\\rangle$, and create the effective  $\\rvert 0' \\rangle \\rightarrow \\rvert B \\rangle $ transition. We use GRAPE optimization to find a phase and amplitude modulated pulse sequence. "
   ]
  },
  {
   "cell_type": "markdown",
   "metadata": {},
   "source": [
    "## 1. Initialization"
   ]
  },
  {
   "cell_type": "code",
   "execution_count": 9,
   "metadata": {},
   "outputs": [],
   "source": [
    "import matplotlib.pyplot as plt\n",
    "import time\n",
    "import numpy as np\n",
    "from math import *\n",
    "from qutip import *\n",
    "from qutip.control import *\n",
    "from qutip.control.grape import plot_grape_control_fields, _overlap, grape_unitary_adaptive, cy_grape_unitary\n",
    "from scipy.interpolate import interp1d\n",
    "from qutip.ui.progressbar import TextProgressBar"
   ]
  },
  {
   "cell_type": "markdown",
   "metadata": {},
   "source": [
    "Define parameters here :"
   ]
  },
  {
   "cell_type": "code",
   "execution_count": 10,
   "metadata": {},
   "outputs": [],
   "source": [
    "nTimes = 10 # Number of segments in the pulse sequence\n",
    "Tgate = np.pi/(2*sqrt(2)) # Target gate evolution time\n",
    "\n",
    "R = 4000 # Number of iterations of the GRAPE algorithm\n",
    "\n",
    "Delta = 0.2 * 2 * pi # Detuning of the field from +1 and -1 "
   ]
  },
  {
   "cell_type": "markdown",
   "metadata": {},
   "source": [
    "The GRAPE algorithm optimises a Hamiltonian of the form : \n",
    "$$ H = H_0 + \\sum_k u_k(t) H_k$$\n",
    "Let us write the Hamiltonian describing a three level system, $\\{\\rvert 0 \\rangle,\\rvert - \\rangle,\\rvert + \\rangle\\}$, and a single field equally detuned from the latter two states :\n",
    "\n",
    "\\begin{equation}\n",
    "H = \\Omega (\\rvert + \\rangle\\langle 0' \\rvert e^{i \\phi}e^{-i\\Delta t} + \\rvert - \\rangle\\langle 0' \\rvert e^{i \\phi}e^{i\\Delta t})  + \\textrm{H.C.}\n",
    "\\end{equation}\n",
    "\n",
    "After going into a time independent interaction picture, this Hamiltonian can be rewritten as :\n",
    "\n",
    "\\begin{equation}\n",
    "H = \\Delta \\sigma_z  + u_1(t)(\\sigma_x^{(+)} + \\sigma_x^{(-)}) +  u_1(t)(\\sigma_y^{(+)} + \\sigma_y^{(-)})\n",
    "\\end{equation}\n",
    "\n",
    "where $\\sigma_z = \\rvert + \\rangle\\langle + \\rvert - \\rvert - \\rangle\\langle - \\rvert $, $\\sigma_x^{i} =  \\rvert i \\rangle\\langle 0 \\rvert + \\rvert 0 \\rangle\\langle i \\rvert$, and $u_1(t) = \\Omega cos(\\phi)$ and $u_2(t) = \\Omega sin(\\phi)$. We define this Hamiltonian below.\n"
   ]
  },
  {
   "cell_type": "code",
   "execution_count": 11,
   "metadata": {},
   "outputs": [],
   "source": [
    "sigmaz_22 = basis(3,1)*basis(3,1).dag()\n",
    "sigmaz_33 = basis(3,2)*basis(3,2).dag()\n",
    "sigmax_12 = basis(3,0)*basis(3,1).dag() + basis(3,1)*basis(3,0).dag() \n",
    "sigmax_13 = basis(3,0)*basis(3,2).dag() + basis(3,2)*basis(3,0).dag() \n",
    "sigmay_12 = - 1j*basis(3,0)*basis(3,1).dag() + 1j* basis(3,1)*basis(3,0).dag() \n",
    "sigmay_13 = - 1j*basis(3,0)*basis(3,2).dag() + 1j* basis(3,2)*basis(3,0).dag() \n",
    "\n",
    "H_ops = [sigmax_12 + sigmax_13,\n",
    "         sigmay_12 + sigmay_13] # List containing each Hk of equaiton 1\n",
    "H_labels = [r'$u_1$', r'$u_2$']\n",
    "\n",
    "H0 = Delta * (sigmaz_22 - sigmaz_33)"
   ]
  },
  {
   "cell_type": "markdown",
   "metadata": {},
   "source": [
    "## 2. GRAPE Optimization"
   ]
  },
  {
   "cell_type": "code",
   "execution_count": 15,
   "metadata": {},
   "outputs": [],
   "source": [
    "# Initial guess for the controls u0\n",
    "u0 = np.array([np.random.rand(len(times)) * 2 * np.pi * 1 for _ in range(len(H_ops))])\n",
    "u0 = u0 - pi\n",
    "u0 = [np.convolve(np.ones(10)/10, u0[idx,:], mode='same') for idx in range(len(H_ops))]\n",
    "\n",
    "# Boundaries for u0\n",
    "u_limits =  [-4*pi, 4 * pi]\n",
    "alpha = None\n",
    "\n",
    "# Time segments for each pulse\n",
    "times = np.linspace(0, Tgate, nTimes)\n",
    "\n",
    "# Target unitary\n",
    "U =  (-1j * pi/(2*sqrt(2))*(sigmax_12 + sigmax_13)).expm()"
   ]
  },
  {
   "cell_type": "code",
   "execution_count": 17,
   "metadata": {},
   "outputs": [
    {
     "name": "stderr",
     "output_type": "stream",
     "text": [
      "C:\\Users\\Christophe\\Anaconda3\\lib\\site-packages\\qutip\\control\\grape.py:337: UserWarning: Causion: Using experimental feature u_limits\n",
      "  warnings.warn(\"Causion: Using experimental feature u_limits\")\n"
     ]
    },
    {
     "name": "stdout",
     "output_type": "stream",
     "text": [
      "10.0%. Run time:  10.31s. Est. time left: 00:00:01:32\n",
      "20.0%. Run time:  20.43s. Est. time left: 00:00:01:21\n",
      "30.0%. Run time:  30.08s. Est. time left: 00:00:01:10\n",
      "40.0%. Run time:  40.60s. Est. time left: 00:00:01:00\n",
      "50.0%. Run time:  50.92s. Est. time left: 00:00:00:50\n",
      "60.0%. Run time:  60.75s. Est. time left: 00:00:00:40\n",
      "70.0%. Run time:  70.86s. Est. time left: 00:00:00:30\n",
      "80.0%. Run time:  80.96s. Est. time left: 00:00:00:20\n",
      "90.0%. Run time:  91.00s. Est. time left: 00:00:00:10\n",
      "Total run time: 101.24s\n"
     ]
    }
   ],
   "source": [
    "result = cy_grape_unitary(U, H0, H_ops, R, times, u_start=u0, u_limits=u_limits,\n",
    "                          eps=2*np.pi/Tgate, alpha=None, phase_sensitive=False,\n",
    "                          progress_bar=TextProgressBar())"
   ]
  },
  {
   "cell_type": "code",
   "execution_count": 18,
   "metadata": {},
   "outputs": [
    {
     "data": {
      "image/png": "[encoded data removed]",
      "text/plain": [
       "<Figure size 576x288 with 2 Axes>"
      ]
     },
     "metadata": {
      "needs_background": "light"
     },
     "output_type": "display_data"
    }
   ],
   "source": [
    "plot_grape_control_fields(times, result.u / (2 * np.pi), H_labels, uniform_axes=True);"
   ]
  },
  {
   "cell_type": "markdown",
   "metadata": {},
   "source": [
    "We can now evaluate the overlap of the obtained sequence with the desired unitary :"
   ]
  },
  {
   "cell_type": "code",
   "execution_count": 38,
   "metadata": {},
   "outputs": [
    {
     "data": {
      "text/plain": [
       "0.9999999867707563"
      ]
     },
     "execution_count": 38,
     "metadata": {},
     "output_type": "execute_result"
    }
   ],
   "source": [
    "abs(_overlap(U, result.U_f))**2"
   ]
  },
  {
   "cell_type": "markdown",
   "metadata": {},
   "source": [
    "The amplitude controls $u_1$ and $u_2$ are functions of the power and the phase. We can retrieve the latter with :\n",
    "\\begin{align}\n",
    "&\\Omega(t) = \\sqrt{u_1(t)^2 + u_2(t)^2} \\\\\n",
    "&\\phi(t) = \\textrm{atan}(\\frac{u_2(t)}{u_1(t)})\n",
    "\\end{align}"
   ]
  },
  {
   "cell_type": "code",
   "execution_count": 19,
   "metadata": {},
   "outputs": [],
   "source": [
    "def getControl(u1, u2) :\n",
    "    # For a given list of controls u1 and u2, retrieve the corresponding power and phase\n",
    "    \n",
    "    \n",
    "    om = [None] * len(u1)\n",
    "    phi = [None] * len(u1)\n",
    "    \n",
    "    for i in range(len(u1)) :\n",
    "        om[i] = sqrt(u1[i]**2 + sqrt(u2[i]**2))\n",
    "        phi[i] = atan2(u2[i], u1[i])\n",
    "        \n",
    "    return [om, phi]"
   ]
  },
  {
   "cell_type": "code",
   "execution_count": 20,
   "metadata": {},
   "outputs": [],
   "source": [
    "# Retrieve the final optimized set of controls\n",
    "u1_f = result.u[R-1][0]\n",
    "u2_f = result.u[R-1][1]\n",
    "\n",
    "[omegas, phis] = getControl(u1_f, u2_f)"
   ]
  },
  {
   "cell_type": "code",
   "execution_count": 25,
   "metadata": {},
   "outputs": [
    {
     "data": {
      "image/png": "[encoded data removed]",
      "text/plain": [
       "<Figure size 576x288 with 2 Axes>"
      ]
     },
     "metadata": {
      "needs_background": "light"
     },
     "output_type": "display_data"
    }
   ],
   "source": [
    "plot_grape_control_fields(times, np.asarray([[omegas, phis]]), [r'$\\Omega$', r'$\\phi$'], uniform_axes=True);"
   ]
  },
  {
   "cell_type": "markdown",
   "metadata": {},
   "source": [
    "## 3. Robustness"
   ]
  },
  {
   "cell_type": "markdown",
   "metadata": {},
   "source": [
    "Given a pulse sequence from a set of controls $u_k(t)$, we wish to find its robustness, particularly to detuning errors. "
   ]
  },
  {
   "cell_type": "code",
   "execution_count": 39,
   "metadata": {},
   "outputs": [],
   "source": [
    "def compute_unitary(u, delta) :\n",
    "    # Computes the unitary operator for a given detuning error delta\n",
    "    \n",
    "    dt = times[1] - times[0] \n",
    "        \n",
    "    J = len(u)\n",
    "    M = len(times)\n",
    "    \n",
    "    def H_err(delta) :\n",
    "        # Hamiltonian for a detuning error\n",
    "        return delta * (sigmaz_22 + sigmaz_33)\n",
    "    \n",
    "    def _H_idx(idx):\n",
    "        # Total Hamiltonian at a given time step\n",
    "        return H0 + H_err(delta) + sum([u[j][idx] * H_ops[j] for j in range(J)])\n",
    "    \n",
    "    U_list = [(-1j * _H_idx(idx) * dt).expm() for idx in range(M-1)]\n",
    "        \n",
    "    U_f = 1\n",
    "    for m in range(M - 1):\n",
    "        U_f = U_list[m] * U_f\n",
    "    \n",
    "    return U_f\n",
    "\n",
    "def detuning_fidelity(u, delta, type = \"\") :\n",
    "    \n",
    "    U_f = compute_unitary(u, delta)\n",
    "    \n",
    "    Bket = (1/sqrt(2))*(basis(3,1) + basis(3,2))\n",
    "    s0pket = basis(3,0) \n",
    "    \n",
    "    if type == \"U\" :\n",
    "        return abs(_overlap(U, U_f))**2\n",
    "    elif type == \"B_0\" :\n",
    "        # Calculate <0| Uf |B>\n",
    "        return fidelity(s0pket, (U_f * Bket))\n",
    "    elif type == \"0_B\" :\n",
    "        # Calculate <B| Uf |0>\n",
    "        return fidelity(Bket, (U_f * s0pket))\n",
    "    else :\n",
    "        return 0"
   ]
  },
  {
   "cell_type": "code",
   "execution_count": 40,
   "metadata": {},
   "outputs": [],
   "source": [
    "det_fracs =  np.linspace(- 0.5, 0.5, 51) # Fractional detuning list\n",
    "fids_U   = np.log10(1-np.asarray([detuning_fidelity([u1_f,u2_f], Delta * det_fracs_i, \"U\") for det_fracs_i in det_fracs]))\n",
    "fids_B_0 = np.log10(1-np.asarray([detuning_fidelity([u1_f,u2_f], Delta * det_fracs_i, \"B_0\") for det_fracs_i in det_fracs]))\n",
    "fids_0_B = np.log10(1-np.asarray([detuning_fidelity([u1_f,u2_f], Delta * det_fracs_i, \"0_B\") for det_fracs_i in det_fracs]))"
   ]
  },
  {
   "cell_type": "code",
   "execution_count": 41,
   "metadata": {},
   "outputs": [
    {
     "data": {
      "text/plain": [
       "array([-1.40609543, -1.44100896, -1.47745614, -1.51557138, -1.55550788,\n",
       "       -1.59744128, -1.64157428, -1.68814251, -1.73742203, -1.78973921,\n",
       "       -1.84548368, -1.90512591, -1.96924112, -2.03854299, -2.113932  ,\n",
       "       -2.19656684, -2.28797369, -2.39022029, -2.50620683, -2.64018314,\n",
       "       -2.79874269, -2.99294257, -3.24354249, -3.59726968, -4.20409778,\n",
       "       -7.87946375, -4.18496181, -3.58771547, -3.23718863, -2.98819361,\n",
       "       -2.79496042, -2.63704844, -2.50353735, -2.38790206, -2.28593072,\n",
       "       -2.19474591, -2.11229444, -2.03705976, -1.96788987, -1.9038891 ,\n",
       "       -1.84434726, -1.78869174, -1.73645411, -1.68724629, -1.64074314,\n",
       "       -1.59666958, -1.55479079, -1.51490472, -1.47683626, -1.44043268,\n",
       "       -1.40555992])"
      ]
     },
     "execution_count": 41,
     "metadata": {},
     "output_type": "execute_result"
    }
   ],
   "source": [
    "fids_U"
   ]
  },
  {
   "cell_type": "code",
   "execution_count": 46,
   "metadata": {},
   "outputs": [
    {
     "data": {
      "image/png": "[encoded data removed]",
      "text/plain": [
       "<Figure size 432x288 with 1 Axes>"
      ]
     },
     "metadata": {
      "needs_background": "light"
     },
     "output_type": "display_data"
    }
   ],
   "source": [
    "fig = plt.figure()\n",
    "ax = fig.add_subplot(111)\n",
    "ax.plot(det_fracs, fids_U, label =r'$tr(U^\\dag U_f)$')\n",
    "ax.plot(det_fracs, fids_B_0, label = r'$\\langle 0 | U_f| B \\rangle $')\n",
    "ax.plot(det_fracs, fids_0_B, label = r'$\\langle B | U_f| 0 \\rangle $')\n",
    "ax.legend(loc='upper center', bbox_to_anchor=(0.5, 1.00), shadow=True, ncol=2)\n",
    "plt.ylim((-4, -2))\n",
    "plt.xlim((-0.5, 0.5))\n",
    "ax.set_aspect(aspect=0.15)\n",
    "plt.grid()\n",
    "plt.xticks([-0.5,-0.4, -0.3, -0.2, -0.1, 0, 0.1, 0.2, 0.3, 0.4, 0.5])\n",
    "plt.xlabel(r'$\\delta/\\Delta\\pm$')\n",
    "plt.ylabel(r'$\\epsilon$')\n",
    "plt.show()"
   ]
  }
 ],
 "metadata": {
  "kernelspec": {
   "display_name": "Python 3",
   "language": "python",
   "name": "python3"
  },
  "language_info": {
   "codemirror_mode": {
    "name": "ipython",
    "version": 3
   },
   "file_extension": ".py",
   "mimetype": "text/x-python",
   "name": "python",
   "nbconvert_exporter": "python",
   "pygments_lexer": "ipython3",
   "version": "3.7.1"
  }
 },
 "nbformat": 4,
 "nbformat_minor": 2
}
